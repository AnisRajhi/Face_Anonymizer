{
 "cells": [
  {
   "cell_type": "code",
   "execution_count": 1,
   "metadata": {},
   "outputs": [],
   "source": [
    "import os\n",
    "import cv2 \n",
    "import mediapipe as mp\n"
   ]
  },
  {
   "cell_type": "code",
   "execution_count": 15,
   "metadata": {},
   "outputs": [],
   "source": [
    "#read image\n",
    "img_path = os.path.join('.', 'data', 'F:/000LearnOpenCV/farfaces.jpg')\n",
    "img = cv2.imread(img_path)"
   ]
  },
  {
   "cell_type": "code",
   "execution_count": 2,
   "metadata": {},
   "outputs": [],
   "source": [
    "cap = cv2.VideoCapture(0)\n",
    "\n",
    "while True:\n",
    "    ret, img = cap.read()\n",
    "    H, W, _= img.shape\n",
    "\n",
    "    mpface_detection = mp.solutions.face_detection\n",
    "\n",
    "    with mpface_detection.FaceDetection(model_selection=1, min_detection_confidence=0.5) as face_detection:\n",
    "        img_rgb = cv2.cvtColor(img, cv2.COLOR_BGR2RGB)\n",
    "        out = face_detection.process(img_rgb)\n",
    "\n",
    "        if out.detections is not None:\n",
    "\n",
    "            for detection in out.detections:\n",
    "                location_data = detection.location_data\n",
    "                bbox = location_data.relative_bounding_box\n",
    "\n",
    "                x, y, w, h = bbox.xmin, bbox.ymin, bbox.width, bbox.height\n",
    "\n",
    "                x = int(x * W)\n",
    "                y = int(y * H)\n",
    "                w = int(w * W)\n",
    "                h = int(h * H)\n",
    "\n",
    "                cv2.rectangle(img, (x,y), (x+w,y+h), (0, 255, 0),2)\n",
    "\n",
    "                img[y:y + h, x:x + w, :]=cv2.blur(img[y:y + h, x:x + w, :], (50,50))\n",
    "\n",
    "        cv2.imshow('frame', img)\n",
    "\n",
    "        while cv2.waitKey(1) & 0xFF == ord('q'):\n",
    "            break    \n",
    "\n",
    "\n",
    "cap.release()\n",
    "cv2.destroyAllWindows()\n"
   ]
  },
  {
   "cell_type": "code",
   "execution_count": null,
   "metadata": {},
   "outputs": [],
   "source": []
  }
 ],
 "metadata": {
  "kernelspec": {
   "display_name": "Python 3",
   "language": "python",
   "name": "python3"
  },
  "language_info": {
   "codemirror_mode": {
    "name": "ipython",
    "version": 3
   },
   "file_extension": ".py",
   "mimetype": "text/x-python",
   "name": "python",
   "nbconvert_exporter": "python",
   "pygments_lexer": "ipython3",
   "version": "3.11.0"
  }
 },
 "nbformat": 4,
 "nbformat_minor": 2
}
